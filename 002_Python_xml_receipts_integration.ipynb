{
 "cells": [
  {
   "cell_type": "code",
   "execution_count": 8,
   "id": "10de540f",
   "metadata": {
    "collapsed": true
   },
   "outputs": [
    {
     "name": "stdout",
     "output_type": "stream",
     "text": [
      "<class 'dict'>\n",
      "{'nfeProc': {'@xmlns': 'http://www.portalfiscal.inf.br/nfe', '@versao': '4.00', 'NFe': {'@xmlns': 'http://www.portalfiscal.inf.br/nfe', 'infNFe': {'@versao': '4.00', '@Id': 'NFe35211136882195000279550010000028500052336', 'ide': {'cUF': '35', 'cNF': '54325233', 'natOp': 'Venda de mercadorias', 'mod': '55', 'serie': '1', 'nNF': '26', 'dhEmi': '2021-11-04T10:15:59-03:00', 'dhSaiEnt': '2021-11-04T10:15:59-03:00', 'tpNF': '1', 'idDest': '2', 'cMunFG': '3550308', 'tpImp': '1', 'tpEmis': '1', 'cDV': '6', 'tpAmb': '1', 'finNFe': '1', 'indFinal': '1', 'indPres': '2', 'indIntermed': '0', 'procEmi': '0', 'verProc': 'Tiny ERP'}, 'emit': {'CNPJ': '36882195000279', 'xNome': 'BROTA COMPANY COMERCIO DE PLANTAS LTDA', 'xFant': 'Brota Company', 'enderEmit': {'xLgr': 'Rua Dona Ana Neri', 'nro': '035', 'xBairro': 'Mooca', 'cMun': '3550308', 'xMun': 'Sao Paulo', 'UF': 'SP', 'CEP': '03106010', 'cPais': '1058', 'xPais': 'Brasil', 'fone': '21970999536'}, 'IE': '131494646119', 'CRT': '1'}, 'dest': {'CPF': '10000000000', 'xNome': 'Lira da Hashtag', 'enderDest': {'xLgr': 'Perdido no Espaco', 'nro': '0', 'xCpl': '0', 'xBairro': 'Lua', 'cMun': '3304557', 'xMun': 'Rio de Janeiro', 'UF': 'RJ', 'CEP': '22000000', 'cPais': '1058', 'xPais': 'Brasil', 'fone': '21999999999'}, 'indIEDest': '9', 'email': 'liradoidonoespaco@gmail.com'}, 'det': [{'@nItem': '1', 'prod': {'cProd': 'BXL0120', 'cEAN': 'SEM GTIN', 'xProd': 'b.box led', 'NCM': '39269069', 'CFOP': '6102', 'uCom': 'Un', 'qCom': '1.0000', 'vUnCom': '389.00', 'vProd': '389.00', 'cEANTrib': 'SEM GTIN', 'uTrib': 'Un', 'qTrib': '1.0000', 'vUnTrib': '389.00', 'vFrete': '0.15', 'vDesc': '64.98', 'indTot': '1', 'xPed': '2871'}, 'imposto': {'vTotTrib': '129.46', 'ICMS': {'ICMSSN102': {'orig': '0', 'CSOSN': '102'}}, 'IPI': {'cEnq': '999', 'IPITrib': {'CST': '99', 'vBC': '324.17', 'pIPI': '0.00', 'vIPI': '0.00'}}, 'PIS': {'PISOutr': {'CST': '49', 'vBC': '0.00', 'pPIS': '0.00', 'vPIS': '0.00'}}, 'COFINS': {'COFINSOutr': {'CST': '49', 'vBC': '0.00', 'pCOFINS': '0.00', 'vCOFINS': '0.00'}}}}, {'@nItem': '2', 'prod': {'cProd': 'TOM0120', 'cEAN': 'SEM GTIN', 'xProd': 'Tomilho Serpilho', 'NCM': '12119090', 'CFOP': '6102', 'uCom': 'Un', 'qCom': '1.0000', 'vUnCom': '10.00', 'vProd': '10.00', 'cEANTrib': 'SEM GTIN', 'uTrib': 'Un', 'qTrib': '1.0000', 'vUnTrib': '10.00', 'vDesc': '1.67', 'indTot': '1', 'xPed': '2871'}, 'imposto': {'vTotTrib': '3.15', 'ICMS': {'ICMSSN102': {'orig': '0', 'CSOSN': '102'}}, 'IPI': {'cEnq': '999', 'IPITrib': {'CST': '99', 'vBC': '8.33', 'pIPI': '0.00', 'vIPI': '0.00'}}, 'PIS': {'PISOutr': {'CST': '49', 'vBC': '0.00', 'pPIS': '0.00', 'vPIS': '0.00'}}, 'COFINS': {'COFINSOutr': {'CST': '49', 'vBC': '0.00', 'pCOFINS': '0.00', 'vCOFINS': '0.00'}}}}, {'@nItem': '3', 'prod': {'cProd': 'ORE0120', 'cEAN': 'SEM GTIN', 'xProd': 'Oregano Bravo-Europeu', 'NCM': '12119090', 'CFOP': '6102', 'uCom': 'Un', 'qCom': '1.0000', 'vUnCom': '10.00', 'vProd': '10.00', 'cEANTrib': 'SEM GTIN', 'uTrib': 'Un', 'qTrib': '1.0000', 'vUnTrib': '10.00', 'vDesc': '1.67', 'indTot': '1', 'xPed': '2871'}, 'imposto': {'vTotTrib': '3.15', 'ICMS': {'ICMSSN102': {'orig': '0', 'CSOSN': '102'}}, 'IPI': {'cEnq': '999', 'IPITrib': {'CST': '99', 'vBC': '8.33', 'pIPI': '0.00', 'vIPI': '0.00'}}, 'PIS': {'PISOutr': {'CST': '49', 'vBC': '0.00', 'pPIS': '0.00', 'vPIS': '0.00'}}, 'COFINS': {'COFINSOutr': {'CST': '49', 'vBC': '0.00', 'pCOFINS': '0.00', 'vCOFINS': '0.00'}}}}, {'@nItem': '4', 'prod': {'cProd': 'MAN0120', 'cEAN': 'SEM GTIN', 'xProd': 'Manjericao Italiano', 'NCM': '12119090', 'CFOP': '6102', 'uCom': 'Un', 'qCom': '1.0000', 'vUnCom': '10.00', 'vProd': '10.00', 'cEANTrib': 'SEM GTIN', 'uTrib': 'Un', 'qTrib': '1.0000', 'vUnTrib': '10.00', 'vDesc': '1.67', 'indTot': '1', 'xPed': '2871'}, 'imposto': {'vTotTrib': '3.15', 'ICMS': {'ICMSSN102': {'orig': '0', 'CSOSN': '102'}}, 'IPI': {'cEnq': '999', 'IPITrib': {'CST': '99', 'vBC': '8.33', 'pIPI': '0.00', 'vIPI': '0.00'}}, 'PIS': {'PISOutr': {'CST': '49', 'vBC': '0.00', 'pPIS': '0.00', 'vPIS': '0.00'}}, 'COFINS': {'COFINSOutr': {'CST': '49', 'vBC': '0.00', 'pCOFINS': '0.00', 'vCOFINS': '0.00'}}}}, {'@nItem': '5', 'prod': {'cProd': 'COE0120', 'cEAN': 'SEM GTIN', 'xProd': 'Coentro Portugues', 'NCM': '12119090', 'CFOP': '6102', 'uCom': 'Un', 'qCom': '1.0000', 'vUnCom': '10.00', 'vProd': '10.00', 'cEANTrib': 'SEM GTIN', 'uTrib': 'Un', 'qTrib': '1.0000', 'vUnTrib': '10.00', 'vDesc': '1.67', 'indTot': '1', 'xPed': '2871'}, 'imposto': {'vTotTrib': '3.15', 'ICMS': {'ICMSSN102': {'orig': '0', 'CSOSN': '102'}}, 'IPI': {'cEnq': '999', 'IPITrib': {'CST': '99', 'vBC': '8.33', 'pIPI': '0.00', 'vIPI': '0.00'}}, 'PIS': {'PISOutr': {'CST': '49', 'vBC': '0.00', 'pPIS': '0.00', 'vPIS': '0.00'}}, 'COFINS': {'COFINSOutr': {'CST': '49', 'vBC': '0.00', 'pCOFINS': '0.00', 'vCOFINS': '0.00'}}}}, {'@nItem': '6', 'prod': {'cProd': 'SAL0120', 'cEAN': 'SEM GTIN', 'xProd': 'Salsa Hortense', 'NCM': '12099100', 'CFOP': '6102', 'uCom': 'Un', 'qCom': '1.0000', 'vUnCom': '10.00', 'vProd': '10.00', 'cEANTrib': 'SEM GTIN', 'uTrib': 'Un', 'qTrib': '1.0000', 'vUnTrib': '10.00', 'vDesc': '1.67', 'indTot': '1', 'xPed': '2871'}, 'imposto': {'vTotTrib': '3.15', 'ICMS': {'ICMSSN102': {'orig': '0', 'CSOSN': '102'}}, 'IPI': {'cEnq': '999', 'IPITrib': {'CST': '99', 'vBC': '8.33', 'pIPI': '0.00', 'vIPI': '0.00'}}, 'PIS': {'PISOutr': {'CST': '49', 'vBC': '0.00', 'pPIS': '0.00', 'vPIS': '0.00'}}, 'COFINS': {'COFINSOutr': {'CST': '49', 'vBC': '0.00', 'pCOFINS': '0.00', 'vCOFINS': '0.00'}}}}, {'@nItem': '7', 'prod': {'cProd': 'ALF0120', 'cEAN': 'SEM GTIN', 'xProd': 'Alface Baby-Leaf', 'NCM': '12099100', 'CFOP': '6102', 'uCom': 'Un', 'qCom': '1.0000', 'vUnCom': '10.00', 'vProd': '10.00', 'cEANTrib': 'SEM GTIN', 'uTrib': 'Un', 'qTrib': '1.0000', 'vUnTrib': '10.00', 'vFrete': '0.02', 'vDesc': '1.67', 'indTot': '1', 'xPed': '2871'}, 'imposto': {'vTotTrib': '3.15', 'ICMS': {'ICMSSN102': {'orig': '0', 'CSOSN': '102'}}, 'IPI': {'cEnq': '999', 'IPITrib': {'CST': '99', 'vBC': '8.35', 'pIPI': '0.00', 'vIPI': '0.00'}}, 'PIS': {'PISOutr': {'CST': '49', 'vBC': '0.00', 'pPIS': '0.00', 'vPIS': '0.00'}}, 'COFINS': {'COFINSOutr': {'CST': '49', 'vBC': '0.00', 'pCOFINS': '0.00', 'vCOFINS': '0.00'}}}}], 'total': {'ICMSTot': {'vBC': '0.00', 'vICMS': '0.00', 'vICMSDeson': '0.00', 'vFCPUFDest': '0.00', 'vICMSUFDest': '0.00', 'vICMSUFRemet': '0.00', 'vFCP': '0.00', 'vBCST': '0.00', 'vST': '0.00', 'vFCPST': '0.00', 'vFCPSTRet': '0.00', 'vProd': '449.00', 'vFrete': '0.17', 'vSeg': '0.00', 'vDesc': '75.00', 'vII': '0.00', 'vIPI': '0.00', 'vIPIDevol': '0.00', 'vPIS': '0.00', 'vCOFINS': '0.00', 'vOutro': '0.00', 'vNF': '374.17', 'vTotTrib': '148.36'}}, 'transp': {'modFrete': '0', 'transporta': {'CNPJ': '27807598000181', 'xNome': 'Yellow Log', 'IE': '87418103', 'xEnder': 'Rua Vieira Ferreira, 114', 'xMun': 'Rio de Janeiro', 'UF': 'RJ'}, 'vol': {'qVol': '1', 'pesoL': '2.600', 'pesoB': '2.600'}}, 'cobr': {'fat': {'nFat': '002856', 'vOrig': '374.17', 'vDesc': '0', 'vLiq': '374.17'}, 'dup': {'nDup': '001', 'dVenc': '2021-11-04', 'vDup': '374.17'}}, 'pag': {'detPag': {'tPag': '99', 'xPag': 'Conta a receber', 'vPag': '374.17'}}, 'infAdic': {'infCpl': 'Tributos aproximados: R$ 67,54 (Federal) e R$ 80,82 (Estadual). Fonte: IBPT BA21D5<br />b.Box\\n                    Led - horta inteligente com luz de led e irrigacao automatica<br />Capsula 1: Tomilho Serpilho<br\\n                    />Capsula 2: Oregano Bravo-Europeu<br />Capsula 3: Manjericao Italiano<br />Capsula\\n                    4: Coentro Portugues<br />Capsula 5: Salsa Hortense<br />Capsula 6: Alface Baby-Leaf<br\\n                    /><br />'}, 'compra': {'xPed': '2871'}}, 'Signature': {'@xmlns': 'http://www.w3.org/2000/09/xmldsig#', 'SignedInfo': {'CanonicalizationMethod': {'@Algorithm': 'http://www.w3.org/TR/2001/REC-xml-c14n-20010315'}, 'SignatureMethod': {'@Algorithm': 'http://www.w3.org/2000/09/xmldsig#rsa-sha1'}, 'Reference': {'@URI': '#NFe3521000002195000279550010000028561543252336', 'Transforms': {'Transform': [{'@Algorithm': 'http://www.w3.org/2000/09/xmldsig#enveloped-signature'}, {'@Algorithm': 'http://www.w3.org/TR/2001/REC-xml-c14n-20010315'}]}, 'DigestMethod': {'@Algorithm': 'http://www.w3.org/2000/09/xmldsig#sha1'}, 'DigestValue': 'YmPqwgaLfaaaMaafu3L8rLNhtAI='}}, 'SignatureValue': 'X2Ho8li542Pj5dQxqE4MvbBpYb+Nd8BafwxE7ZUPRaaata2xkNE5ue+pgk5UEEcHI+vlnXIuyjU18q8Y0PT/cEhnCbsSfT9G8IaulL0kBOKtHeI0GnRqFNaUp+NF0fX7yV6KVfFoXLo/hH520qiA/SKydbBtSn3B7C4O3P9j8+8b/gAQTRScFTfK7/rVel7MVQUg/cJnNvEXQC1W7D3iT+E0iCwIdty7KYa6AYOCfw2A+ooeijoFFbHzpfvp+NG4udOcQFswm1ozIYPxRWMKh0uFHvbmZRKNkMhrKRB/W5SvSJYGAe/Az/9WgZ2sJZUXps5hvP4mDo09pQ==', 'KeyInfo': {'X509Data': {'X509Certificate': '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'}}}}, 'protNFe': {'@versao': '4.00', 'infProt': {'tpAmb': '1', 'verAplic': 'SP_NFE_PL009_V4', 'chNFe': '35211136882195000279550010000028561541212336', 'dhRecbto': '2021-11-04T16:46:25-03:00', 'nProt': '135211306234123', 'digVal': 'YmPqwgaLfoagMFaaL8rLNhtAI=', 'cStat': '100', 'xMotivo': 'Autorizado o uso da NF-e'}}}}\n"
     ]
    }
   ],
   "source": [
    "# reading and extracting information from xml \n",
    "\n",
    "# if you didn't install xmltodict yet\n",
    "# !pip install xmltodict\n",
    "\n",
    "import xmltodict\n",
    "\n",
    "# reading xml of DANFE receipts type\n",
    "with open('DANFEBrota.xml', 'rb') as xml: # rb - read binary\n",
    "    file = xmltodict.parse(xml)\n",
    "\n",
    "print(type(file))\n",
    "print(file) \n",
    "# dictionary w/ keys and value/data pair; sometimes in the 'file' the data pair is other dictionary\n",
    "# this is useful to translate the xml file into a python data type. "
   ]
  },
  {
   "cell_type": "code",
   "execution_count": 11,
   "id": "406feda2",
   "metadata": {
    "collapsed": true
   },
   "outputs": [
    {
     "name": "stdout",
     "output_type": "stream",
     "text": [
      "{'@xmlns': 'http://www.portalfiscal.inf.br/nfe', '@versao': '4.00', 'NFe': {'@xmlns': 'http://www.portalfiscal.inf.br/nfe', 'infNFe': {'@versao': '4.00', '@Id': 'NFe35211136882195000279550010000028500052336', 'ide': {'cUF': '35', 'cNF': '54325233', 'natOp': 'Venda de mercadorias', 'mod': '55', 'serie': '1', 'nNF': '26', 'dhEmi': '2021-11-04T10:15:59-03:00', 'dhSaiEnt': '2021-11-04T10:15:59-03:00', 'tpNF': '1', 'idDest': '2', 'cMunFG': '3550308', 'tpImp': '1', 'tpEmis': '1', 'cDV': '6', 'tpAmb': '1', 'finNFe': '1', 'indFinal': '1', 'indPres': '2', 'indIntermed': '0', 'procEmi': '0', 'verProc': 'Tiny ERP'}, 'emit': {'CNPJ': '36882195000279', 'xNome': 'BROTA COMPANY COMERCIO DE PLANTAS LTDA', 'xFant': 'Brota Company', 'enderEmit': {'xLgr': 'Rua Dona Ana Neri', 'nro': '035', 'xBairro': 'Mooca', 'cMun': '3550308', 'xMun': 'Sao Paulo', 'UF': 'SP', 'CEP': '03106010', 'cPais': '1058', 'xPais': 'Brasil', 'fone': '21970999536'}, 'IE': '131494646119', 'CRT': '1'}, 'dest': {'CPF': '10000000000', 'xNome': 'Lira da Hashtag', 'enderDest': {'xLgr': 'Perdido no Espaco', 'nro': '0', 'xCpl': '0', 'xBairro': 'Lua', 'cMun': '3304557', 'xMun': 'Rio de Janeiro', 'UF': 'RJ', 'CEP': '22000000', 'cPais': '1058', 'xPais': 'Brasil', 'fone': '21999999999'}, 'indIEDest': '9', 'email': 'liradoidonoespaco@gmail.com'}, 'det': [{'@nItem': '1', 'prod': {'cProd': 'BXL0120', 'cEAN': 'SEM GTIN', 'xProd': 'b.box led', 'NCM': '39269069', 'CFOP': '6102', 'uCom': 'Un', 'qCom': '1.0000', 'vUnCom': '389.00', 'vProd': '389.00', 'cEANTrib': 'SEM GTIN', 'uTrib': 'Un', 'qTrib': '1.0000', 'vUnTrib': '389.00', 'vFrete': '0.15', 'vDesc': '64.98', 'indTot': '1', 'xPed': '2871'}, 'imposto': {'vTotTrib': '129.46', 'ICMS': {'ICMSSN102': {'orig': '0', 'CSOSN': '102'}}, 'IPI': {'cEnq': '999', 'IPITrib': {'CST': '99', 'vBC': '324.17', 'pIPI': '0.00', 'vIPI': '0.00'}}, 'PIS': {'PISOutr': {'CST': '49', 'vBC': '0.00', 'pPIS': '0.00', 'vPIS': '0.00'}}, 'COFINS': {'COFINSOutr': {'CST': '49', 'vBC': '0.00', 'pCOFINS': '0.00', 'vCOFINS': '0.00'}}}}, {'@nItem': '2', 'prod': {'cProd': 'TOM0120', 'cEAN': 'SEM GTIN', 'xProd': 'Tomilho Serpilho', 'NCM': '12119090', 'CFOP': '6102', 'uCom': 'Un', 'qCom': '1.0000', 'vUnCom': '10.00', 'vProd': '10.00', 'cEANTrib': 'SEM GTIN', 'uTrib': 'Un', 'qTrib': '1.0000', 'vUnTrib': '10.00', 'vDesc': '1.67', 'indTot': '1', 'xPed': '2871'}, 'imposto': {'vTotTrib': '3.15', 'ICMS': {'ICMSSN102': {'orig': '0', 'CSOSN': '102'}}, 'IPI': {'cEnq': '999', 'IPITrib': {'CST': '99', 'vBC': '8.33', 'pIPI': '0.00', 'vIPI': '0.00'}}, 'PIS': {'PISOutr': {'CST': '49', 'vBC': '0.00', 'pPIS': '0.00', 'vPIS': '0.00'}}, 'COFINS': {'COFINSOutr': {'CST': '49', 'vBC': '0.00', 'pCOFINS': '0.00', 'vCOFINS': '0.00'}}}}, {'@nItem': '3', 'prod': {'cProd': 'ORE0120', 'cEAN': 'SEM GTIN', 'xProd': 'Oregano Bravo-Europeu', 'NCM': '12119090', 'CFOP': '6102', 'uCom': 'Un', 'qCom': '1.0000', 'vUnCom': '10.00', 'vProd': '10.00', 'cEANTrib': 'SEM GTIN', 'uTrib': 'Un', 'qTrib': '1.0000', 'vUnTrib': '10.00', 'vDesc': '1.67', 'indTot': '1', 'xPed': '2871'}, 'imposto': {'vTotTrib': '3.15', 'ICMS': {'ICMSSN102': {'orig': '0', 'CSOSN': '102'}}, 'IPI': {'cEnq': '999', 'IPITrib': {'CST': '99', 'vBC': '8.33', 'pIPI': '0.00', 'vIPI': '0.00'}}, 'PIS': {'PISOutr': {'CST': '49', 'vBC': '0.00', 'pPIS': '0.00', 'vPIS': '0.00'}}, 'COFINS': {'COFINSOutr': {'CST': '49', 'vBC': '0.00', 'pCOFINS': '0.00', 'vCOFINS': '0.00'}}}}, {'@nItem': '4', 'prod': {'cProd': 'MAN0120', 'cEAN': 'SEM GTIN', 'xProd': 'Manjericao Italiano', 'NCM': '12119090', 'CFOP': '6102', 'uCom': 'Un', 'qCom': '1.0000', 'vUnCom': '10.00', 'vProd': '10.00', 'cEANTrib': 'SEM GTIN', 'uTrib': 'Un', 'qTrib': '1.0000', 'vUnTrib': '10.00', 'vDesc': '1.67', 'indTot': '1', 'xPed': '2871'}, 'imposto': {'vTotTrib': '3.15', 'ICMS': {'ICMSSN102': {'orig': '0', 'CSOSN': '102'}}, 'IPI': {'cEnq': '999', 'IPITrib': {'CST': '99', 'vBC': '8.33', 'pIPI': '0.00', 'vIPI': '0.00'}}, 'PIS': {'PISOutr': {'CST': '49', 'vBC': '0.00', 'pPIS': '0.00', 'vPIS': '0.00'}}, 'COFINS': {'COFINSOutr': {'CST': '49', 'vBC': '0.00', 'pCOFINS': '0.00', 'vCOFINS': '0.00'}}}}, {'@nItem': '5', 'prod': {'cProd': 'COE0120', 'cEAN': 'SEM GTIN', 'xProd': 'Coentro Portugues', 'NCM': '12119090', 'CFOP': '6102', 'uCom': 'Un', 'qCom': '1.0000', 'vUnCom': '10.00', 'vProd': '10.00', 'cEANTrib': 'SEM GTIN', 'uTrib': 'Un', 'qTrib': '1.0000', 'vUnTrib': '10.00', 'vDesc': '1.67', 'indTot': '1', 'xPed': '2871'}, 'imposto': {'vTotTrib': '3.15', 'ICMS': {'ICMSSN102': {'orig': '0', 'CSOSN': '102'}}, 'IPI': {'cEnq': '999', 'IPITrib': {'CST': '99', 'vBC': '8.33', 'pIPI': '0.00', 'vIPI': '0.00'}}, 'PIS': {'PISOutr': {'CST': '49', 'vBC': '0.00', 'pPIS': '0.00', 'vPIS': '0.00'}}, 'COFINS': {'COFINSOutr': {'CST': '49', 'vBC': '0.00', 'pCOFINS': '0.00', 'vCOFINS': '0.00'}}}}, {'@nItem': '6', 'prod': {'cProd': 'SAL0120', 'cEAN': 'SEM GTIN', 'xProd': 'Salsa Hortense', 'NCM': '12099100', 'CFOP': '6102', 'uCom': 'Un', 'qCom': '1.0000', 'vUnCom': '10.00', 'vProd': '10.00', 'cEANTrib': 'SEM GTIN', 'uTrib': 'Un', 'qTrib': '1.0000', 'vUnTrib': '10.00', 'vDesc': '1.67', 'indTot': '1', 'xPed': '2871'}, 'imposto': {'vTotTrib': '3.15', 'ICMS': {'ICMSSN102': {'orig': '0', 'CSOSN': '102'}}, 'IPI': {'cEnq': '999', 'IPITrib': {'CST': '99', 'vBC': '8.33', 'pIPI': '0.00', 'vIPI': '0.00'}}, 'PIS': {'PISOutr': {'CST': '49', 'vBC': '0.00', 'pPIS': '0.00', 'vPIS': '0.00'}}, 'COFINS': {'COFINSOutr': {'CST': '49', 'vBC': '0.00', 'pCOFINS': '0.00', 'vCOFINS': '0.00'}}}}, {'@nItem': '7', 'prod': {'cProd': 'ALF0120', 'cEAN': 'SEM GTIN', 'xProd': 'Alface Baby-Leaf', 'NCM': '12099100', 'CFOP': '6102', 'uCom': 'Un', 'qCom': '1.0000', 'vUnCom': '10.00', 'vProd': '10.00', 'cEANTrib': 'SEM GTIN', 'uTrib': 'Un', 'qTrib': '1.0000', 'vUnTrib': '10.00', 'vFrete': '0.02', 'vDesc': '1.67', 'indTot': '1', 'xPed': '2871'}, 'imposto': {'vTotTrib': '3.15', 'ICMS': {'ICMSSN102': {'orig': '0', 'CSOSN': '102'}}, 'IPI': {'cEnq': '999', 'IPITrib': {'CST': '99', 'vBC': '8.35', 'pIPI': '0.00', 'vIPI': '0.00'}}, 'PIS': {'PISOutr': {'CST': '49', 'vBC': '0.00', 'pPIS': '0.00', 'vPIS': '0.00'}}, 'COFINS': {'COFINSOutr': {'CST': '49', 'vBC': '0.00', 'pCOFINS': '0.00', 'vCOFINS': '0.00'}}}}], 'total': {'ICMSTot': {'vBC': '0.00', 'vICMS': '0.00', 'vICMSDeson': '0.00', 'vFCPUFDest': '0.00', 'vICMSUFDest': '0.00', 'vICMSUFRemet': '0.00', 'vFCP': '0.00', 'vBCST': '0.00', 'vST': '0.00', 'vFCPST': '0.00', 'vFCPSTRet': '0.00', 'vProd': '449.00', 'vFrete': '0.17', 'vSeg': '0.00', 'vDesc': '75.00', 'vII': '0.00', 'vIPI': '0.00', 'vIPIDevol': '0.00', 'vPIS': '0.00', 'vCOFINS': '0.00', 'vOutro': '0.00', 'vNF': '374.17', 'vTotTrib': '148.36'}}, 'transp': {'modFrete': '0', 'transporta': {'CNPJ': '27807598000181', 'xNome': 'Yellow Log', 'IE': '87418103', 'xEnder': 'Rua Vieira Ferreira, 114', 'xMun': 'Rio de Janeiro', 'UF': 'RJ'}, 'vol': {'qVol': '1', 'pesoL': '2.600', 'pesoB': '2.600'}}, 'cobr': {'fat': {'nFat': '002856', 'vOrig': '374.17', 'vDesc': '0', 'vLiq': '374.17'}, 'dup': {'nDup': '001', 'dVenc': '2021-11-04', 'vDup': '374.17'}}, 'pag': {'detPag': {'tPag': '99', 'xPag': 'Conta a receber', 'vPag': '374.17'}}, 'infAdic': {'infCpl': 'Tributos aproximados: R$ 67,54 (Federal) e R$ 80,82 (Estadual). Fonte: IBPT BA21D5<br />b.Box\\n                    Led - horta inteligente com luz de led e irrigacao automatica<br />Capsula 1: Tomilho Serpilho<br\\n                    />Capsula 2: Oregano Bravo-Europeu<br />Capsula 3: Manjericao Italiano<br />Capsula\\n                    4: Coentro Portugues<br />Capsula 5: Salsa Hortense<br />Capsula 6: Alface Baby-Leaf<br\\n                    /><br />'}, 'compra': {'xPed': '2871'}}, 'Signature': {'@xmlns': 'http://www.w3.org/2000/09/xmldsig#', 'SignedInfo': {'CanonicalizationMethod': {'@Algorithm': 'http://www.w3.org/TR/2001/REC-xml-c14n-20010315'}, 'SignatureMethod': {'@Algorithm': 'http://www.w3.org/2000/09/xmldsig#rsa-sha1'}, 'Reference': {'@URI': '#NFe3521000002195000279550010000028561543252336', 'Transforms': {'Transform': [{'@Algorithm': 'http://www.w3.org/2000/09/xmldsig#enveloped-signature'}, {'@Algorithm': 'http://www.w3.org/TR/2001/REC-xml-c14n-20010315'}]}, 'DigestMethod': {'@Algorithm': 'http://www.w3.org/2000/09/xmldsig#sha1'}, 'DigestValue': 'YmPqwgaLfaaaMaafu3L8rLNhtAI='}}, 'SignatureValue': 'X2Ho8li542Pj5dQxqE4MvbBpYb+Nd8BafwxE7ZUPRaaata2xkNE5ue+pgk5UEEcHI+vlnXIuyjU18q8Y0PT/cEhnCbsSfT9G8IaulL0kBOKtHeI0GnRqFNaUp+NF0fX7yV6KVfFoXLo/hH520qiA/SKydbBtSn3B7C4O3P9j8+8b/gAQTRScFTfK7/rVel7MVQUg/cJnNvEXQC1W7D3iT+E0iCwIdty7KYa6AYOCfw2A+ooeijoFFbHzpfvp+NG4udOcQFswm1ozIYPxRWMKh0uFHvbmZRKNkMhrKRB/W5SvSJYGAe/Az/9WgZ2sJZUXps5hvP4mDo09pQ==', 'KeyInfo': {'X509Data': {'X509Certificate': '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'}}}}, 'protNFe': {'@versao': '4.00', 'infProt': {'tpAmb': '1', 'verAplic': 'SP_NFE_PL009_V4', 'chNFe': '35211136882195000279550010000028561541212336', 'dhRecbto': '2021-11-04T16:46:25-03:00', 'nProt': '135211306234123', 'digVal': 'YmPqwgaLfoagMFaaL8rLNhtAI=', 'cStat': '100', 'xMotivo': 'Autorizado o uso da NF-e'}}} \n",
      "\n",
      "35\n"
     ]
    }
   ],
   "source": [
    "# accessing information in a dictionary\n",
    "\n",
    "print(file['nfeProc'],'\\n') # dictionary['name_of_key']\n",
    "print(file['nfeProc']['NFe']['infNFe']['ide']['cUF']) # you can access dictionaries inside a key"
   ]
  },
  {
   "cell_type": "code",
   "execution_count": 20,
   "id": "259983d7",
   "metadata": {},
   "outputs": [
    {
     "name": "stdout",
     "output_type": "stream",
     "text": [
      "374.17\n",
      "{'total_value': '374.17', 'cnpj_seller': '36882195000279', 'name_seller': 'BROTA COMPANY COMERCIO DE PLANTAS LTDA', 'name_buyer': 'Lira da Hashtag', 'products_list': [('b.box led', '389.00'), ('Tomilho Serpilho', '10.00'), ('Oregano Bravo-Europeu', '10.00'), ('Manjericao Italiano', '10.00'), ('Coentro Portugues', '10.00'), ('Salsa Hortense', '10.00'), ('Alface Baby-Leaf', '10.00')]}\n"
     ]
    }
   ],
   "source": [
    "# now we will get the 'valor_total', 'produtos','valores_productos' 'cnpj', 'name', 'cpf' information\n",
    "\n",
    "dict_receipt = file['nfeProc']['NFe']['infNFe']\n",
    "\n",
    "total_value = file['nfeProc']['NFe']['infNFe']['total']['ICMSTot']['vNF']\n",
    "print(total_value) \n",
    "\n",
    "# you can itinerate using a for loop to discover each key\n",
    "# for item in total_value['nfeProc']['NFe']['infNFe']:\n",
    "#    print(item)\n",
    "\n",
    "cnpj_seller = dict_receipt['emit']['CNPJ']\n",
    "name_seller = dict_receipt['emit']['xNome']\n",
    "name_buyer = dict_receipt['dest']['xNome']\n",
    "\n",
    "products = dict_receipt['det']\n",
    "list_products = []\n",
    "\n",
    "for product in products:\n",
    "    value_product = product['prod']['vProd']\n",
    "    name_product = product['prod']['xProd']\n",
    "    list_products.append((name_product, value_product))\n",
    "\n",
    "answer = {\n",
    "    'total_value': total_value,\n",
    "    'cnpj_seller': cnpj_seller,\n",
    "    'name_seller': name_seller,\n",
    "    'name_buyer': name_buyer,\n",
    "    'products_list': list_products\n",
    "}\n",
    "\n",
    "print(answer)"
   ]
  },
  {
   "cell_type": "code",
   "execution_count": 22,
   "id": "c026a811",
   "metadata": {},
   "outputs": [],
   "source": [
    "# and what is cool is that you can export this to a excel sheet\n",
    "\n",
    "import pandas as pd\n",
    "sheet = pd.DataFrame.from_dict(answer)\n",
    "sheet.to_excel('NFs.xlsx') # this created an excel sheet with 7 different lines, one for each product\n",
    "\n",
    "# if you want to export with just one line, each of it for one different NF receipt, you can change the for loop:\n",
    "list_products2 = []\n",
    "\n",
    "for product in products:\n",
    "    value_product = product['prod']['vProd']\n",
    "    name_product = product['prod']['xProd']\n",
    "    list_products2.append((name_product, value_product))\n",
    "\n",
    "answer2 = {\n",
    "    'total_value': [total_value],\n",
    "    'cnpj_seller': [cnpj_seller],\n",
    "    'name_seller': [name_seller],\n",
    "    'name_buyer': [name_buyer],\n",
    "    'products_list': [list_products2]\n",
    "}\n",
    "\n",
    "sheet2 = pd.DataFrame.from_dict(answer2)\n",
    "sheet2.to_excel('NFs2.xlsx')"
   ]
  },
  {
   "cell_type": "code",
   "execution_count": 24,
   "id": "f429edb3",
   "metadata": {},
   "outputs": [],
   "source": [
    "# if you want to automate things, create a function:\n",
    "\n",
    "def read_xml_danfe(receipt):\n",
    "    with open(receipt, 'rb') as xml: # rb - read binary\n",
    "        file = xmltodict.parse(xml)\n",
    "    \n",
    "    dict_receipt = file['nfeProc']['NFe']['infNFe']\n",
    "\n",
    "    total_value = file['nfeProc']['NFe']['infNFe']['total']['ICMSTot']['vNF']\n",
    "\n",
    "    cnpj_seller = dict_receipt['emit']['CNPJ']\n",
    "    name_seller = dict_receipt['emit']['xNome']\n",
    "    name_buyer = dict_receipt['dest']['xNome']\n",
    "\n",
    "    products = dict_receipt['det']\n",
    "    list_products = []\n",
    "\n",
    "    for product in products:\n",
    "        value_product = product['prod']['vProd']\n",
    "        name_product = product['prod']['xProd']\n",
    "        list_products.append((name_product, value_product))\n",
    "\n",
    "    answer = {\n",
    "        'total_value': [total_value],\n",
    "        'cnpj_seller': [cnpj_seller],\n",
    "        'name_seller': [name_seller],\n",
    "        'name_buyer': [name_buyer],\n",
    "        'products_list': [list_products]\n",
    "    }\n",
    "    \n",
    "    sheet = pd.DataFrame.from_dict(answer)\n",
    "    sheet.to_excel('NotaCarioca_NFs.xlsx')\n",
    "    \n",
    "    return answer\n"
   ]
  },
  {
   "cell_type": "code",
   "execution_count": 25,
   "id": "75b05988",
   "metadata": {},
   "outputs": [],
   "source": [
    "# now we can create a function to a different type of xml receipt, the 'nota carioca' type\n",
    "\n",
    "def read_xml_nota_carioca(receipt):\n",
    "    with open(receipt, 'rb') as xml: # rb - read binary\n",
    "        file = xmltodict.parse(xml)\n",
    "    \n",
    "    dict_receipt = file['ConsultarNfseResposta']['ListaNfse']['CompNfse']['Nfse']['InfNfse']\n",
    "\n",
    "    total_value = file['Servico']['Valores']['ValorServicos']\n",
    "    cnpj_seller = dict_receipt['PrestadorServico']['IdentificacaoPrestador']['Cnpj']\n",
    "    name_seller = dict_receipt['PrestadorServico']['RazaoSocial']\n",
    "    name_buyer = dict_receipt['TomadorServico']['RazaoSocial']\n",
    "    products = dict_receipt['Servico']['Discriminacao'] # doesn't need the for loop\n",
    "\n",
    "    answer = {\n",
    "        'total_value': [total_value],\n",
    "        'cnpj_seller': [cnpj_seller],\n",
    "        'name_seller': [name_seller],\n",
    "        'name_buyer': [name_buyer],\n",
    "        'products_list': [products]\n",
    "    }\n",
    "    \n",
    "    return answer"
   ]
  },
  {
   "cell_type": "code",
   "execution_count": null,
   "id": "d63c0322",
   "metadata": {},
   "outputs": [],
   "source": [
    "# itinerate through folders in you computer\n",
    "\n",
    "import os\n",
    "\n",
    "list_files = os.listdir('NFs Finais')\n",
    "\n",
    "for file in list_files:\n",
    "    if 'xml' in file:\n",
    "        print(read_xml_danfe(file))\n",
    "    else:\n",
    "        print(read_xml_nota_carioca(file))"
   ]
  }
 ],
 "metadata": {
  "kernelspec": {
   "display_name": "Python 3 (ipykernel)",
   "language": "python",
   "name": "python3"
  },
  "language_info": {
   "codemirror_mode": {
    "name": "ipython",
    "version": 3
   },
   "file_extension": ".py",
   "mimetype": "text/x-python",
   "name": "python",
   "nbconvert_exporter": "python",
   "pygments_lexer": "ipython3",
   "version": "3.11.5"
  }
 },
 "nbformat": 4,
 "nbformat_minor": 5
}
